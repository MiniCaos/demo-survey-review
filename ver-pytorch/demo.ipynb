{
 "cells": [
  {
   "cell_type": "code",
   "execution_count": 1,
   "id": "a19916a7-c042-4b55-8944-26d62e0589ac",
   "metadata": {},
   "outputs": [],
   "source": [
    "import torch\n",
    "from torch import nn\n",
    "from torch.utils.data import DataLoader\n",
    "from torchvision import datasets\n",
    "from torchvision.transforms import ToTensor\n",
    "import matplotlib.pyplot as plt"
   ]
  },
  {
   "cell_type": "code",
   "execution_count": 2,
   "id": "3c8326bd-4b0d-46a2-ae4c-7e8917ddb430",
   "metadata": {},
   "outputs": [],
   "source": [
    "# Download training data from open datasets.\n",
    "training_data = datasets.FashionMNIST(\n",
    "    root=\"data\",\n",
    "    train=True,\n",
    "    download=True,\n",
    "    transform=ToTensor(),\n",
    ")\n",
    "\n",
    "# Download test data from open datasets.\n",
    "test_data = datasets.FashionMNIST(\n",
    "    root=\"data\",\n",
    "    train=False,\n",
    "    download=True,\n",
    "    transform=ToTensor(),\n",
    ")"
   ]
  },
  {
   "cell_type": "code",
   "execution_count": 3,
   "id": "07b1941a-1386-4d63-9a68-89e5f628ab1d",
   "metadata": {},
   "outputs": [
    {
     "name": "stdout",
     "output_type": "stream",
     "text": [
      "Shape of X [N, C, H, W]: torch.Size([64, 1, 28, 28])\n",
      "Shape of y: torch.Size([64]) torch.int64\n"
     ]
    }
   ],
   "source": [
    "batch_size = 64\n",
    "\n",
    "# Create data loaders.\n",
    "train_dataloader = DataLoader(training_data, batch_size=batch_size)\n",
    "test_dataloader = DataLoader(test_data, batch_size=batch_size)\n",
    "\n",
    "for X, y in test_dataloader:\n",
    "    print(f\"Shape of X [N, C, H, W]: {X.shape}\")\n",
    "    print(f\"Shape of y: {y.shape} {y.dtype}\")\n",
    "    break"
   ]
  },
  {
   "cell_type": "code",
   "execution_count": 4,
   "id": "338b4cf7-0824-4e92-b143-0f53e850dc42",
   "metadata": {},
   "outputs": [
    {
     "name": "stdout",
     "output_type": "stream",
     "text": [
      "Using cpu device\n",
      "NeuralNetwork(\n",
      "  (flatten): Flatten(start_dim=1, end_dim=-1)\n",
      "  (linear_relu_stack): Sequential(\n",
      "    (0): Linear(in_features=784, out_features=512, bias=True)\n",
      "    (1): ReLU()\n",
      "    (2): Linear(in_features=512, out_features=512, bias=True)\n",
      "    (3): ReLU()\n",
      "    (4): Linear(in_features=512, out_features=10, bias=True)\n",
      "  )\n",
      ")\n"
     ]
    }
   ],
   "source": [
    "device = torch.accelerator.current_accelerator().type if torch.accelerator.is_available() else \"cpu\"\n",
    "print(f\"Using {device} device\")\n",
    "# Define model\n",
    "class NeuralNetwork(nn.Module):\n",
    "    def __init__(self):\n",
    "        super().__init__()\n",
    "        self.flatten = nn.Flatten()\n",
    "        self.linear_relu_stack = nn.Sequential(\n",
    "            nn.Linear(28*28, 512),\n",
    "            nn.ReLU(),\n",
    "            nn.Linear(512, 512),\n",
    "            nn.ReLU(),\n",
    "            nn.Linear(512, 10)\n",
    "        )\n",
    "\n",
    "    def forward(self, x):\n",
    "        x = self.flatten(x)\n",
    "        logits = self.linear_relu_stack(x)\n",
    "        return logits\n",
    "\n",
    "modelnn = NeuralNetwork().to(device)\n",
    "print(modelnn)"
   ]
  },
  {
   "cell_type": "code",
   "execution_count": 5,
   "id": "250738e7-37c7-41f2-864a-f24e20ead2a0",
   "metadata": {},
   "outputs": [
    {
     "name": "stdout",
     "output_type": "stream",
     "text": [
      "Using cpu device\n",
      "CNN(\n",
      "  (conv_stack): Sequential(\n",
      "    (0): Conv2d(1, 32, kernel_size=(3, 3), stride=(1, 1), padding=(1, 1))\n",
      "    (1): ReLU()\n",
      "    (2): MaxPool2d(kernel_size=2, stride=2, padding=0, dilation=1, ceil_mode=False)\n",
      "    (3): Conv2d(32, 64, kernel_size=(3, 3), stride=(1, 1), padding=(1, 1))\n",
      "    (4): ReLU()\n",
      "    (5): MaxPool2d(kernel_size=2, stride=2, padding=0, dilation=1, ceil_mode=False)\n",
      "  )\n",
      "  (fc_stack): Sequential(\n",
      "    (0): Flatten(start_dim=1, end_dim=-1)\n",
      "    (1): Linear(in_features=3136, out_features=128, bias=True)\n",
      "    (2): ReLU()\n",
      "    (3): Linear(in_features=128, out_features=10, bias=True)\n",
      "  )\n",
      ")\n"
     ]
    }
   ],
   "source": [
    "device = torch.accelerator.current_accelerator().type if torch.accelerator.is_available() else \"cpu\"\n",
    "print(f\"Using {device} device\")\n",
    "class CNN(nn.Module):\n",
    "    def __init__(self):\n",
    "        super().__init__()\n",
    "        self.conv_stack = nn.Sequential(\n",
    "            nn.Conv2d(1, 32, kernel_size=3, padding=1), nn.ReLU(),\n",
    "            nn.MaxPool2d(2),  # 28x28 -> 14x14\n",
    "            nn.Conv2d(32, 64, kernel_size=3, padding=1), nn.ReLU(),\n",
    "            nn.MaxPool2d(2)   # 14x14 -> 7x7\n",
    "        )\n",
    "        self.fc_stack = nn.Sequential(\n",
    "            nn.Flatten(),\n",
    "            nn.Linear(64*7*7, 128), nn.ReLU(),\n",
    "            nn.Linear(128, 10)\n",
    "        )\n",
    "    def forward(self, x):\n",
    "        x = self.conv_stack(x)\n",
    "        return self.fc_stack(x)\n",
    "\n",
    "modelcnn = CNN().to(device)\n",
    "print(modelcnn)"
   ]
  },
  {
   "cell_type": "code",
   "execution_count": 6,
   "id": "25fca880-d8f3-47ad-b833-fec4958dbf72",
   "metadata": {},
   "outputs": [],
   "source": [
    "loss_fn = nn.CrossEntropyLoss()\n",
    "optimizer_nn = torch.optim.SGD(modelnn.parameters(), lr=1e-3)\n",
    "optimizer_cnn = torch.optim.Adam(modelcnn.parameters(), lr=1e-3)"
   ]
  },
  {
   "cell_type": "code",
   "execution_count": 7,
   "id": "4d32a9a2-478c-4cbc-a570-9b218a52f6b2",
   "metadata": {},
   "outputs": [],
   "source": [
    "def train(dataloader, model, loss_fn, optimizer):\n",
    "    size = len(dataloader.dataset)\n",
    "    model.train()\n",
    "    running_loss, correct = 0, 0\n",
    "    for batch, (X, y) in enumerate(dataloader):\n",
    "        X, y = X.to(device), y.to(device)\n",
    "\n",
    "        # Compute prediction error\n",
    "        pred = model(X)\n",
    "        loss = loss_fn(pred, y)\n",
    "\n",
    "        # Backpropagation\n",
    "        loss.backward()\n",
    "        optimizer.step()\n",
    "        optimizer.zero_grad()\n",
    "\n",
    "        running_loss += loss.item()\n",
    "        correct += (pred.argmax(1) == y).type(torch.float).sum().item()\n",
    "\n",
    "        if batch % 100 == 0:\n",
    "            loss, current = loss.item(), (batch + 1) * len(X)\n",
    "            print(f\"loss: {loss:>7f}  [{current:>5d}/{size:>5d}]\")\n",
    "\n",
    "    avg_loss = running_loss / len(dataloader)\n",
    "    accuracy = correct / size\n",
    "    return avg_loss, accuracy"
   ]
  },
  {
   "cell_type": "code",
   "execution_count": 8,
   "id": "13f9c3dd-016a-4f32-866d-f71392db8dfa",
   "metadata": {},
   "outputs": [],
   "source": [
    "def test(dataloader, model, loss_fn):\n",
    "    size = len(dataloader.dataset)\n",
    "    num_batches = len(dataloader)\n",
    "    model.eval()\n",
    "    test_loss, correct = 0, 0\n",
    "    with torch.no_grad():\n",
    "        for X, y in dataloader:\n",
    "            X, y = X.to(device), y.to(device)\n",
    "            pred = model(X)\n",
    "            test_loss += loss_fn(pred, y).item()\n",
    "            correct += (pred.argmax(1) == y).type(torch.float).sum().item()\n",
    "    test_loss /= num_batches\n",
    "    accuracy = correct / size\n",
    "    print(f\"Test Error: \\n Accuracy: {(100*accuracy):>0.1f}%, Avg loss: {test_loss:>8f} \\n\")\n",
    "    return test_loss, accuracy"
   ]
  },
  {
   "cell_type": "code",
   "execution_count": 9,
   "id": "0b8df260-97b1-443d-82ce-55e2d08f2418",
   "metadata": {},
   "outputs": [
    {
     "name": "stdout",
     "output_type": "stream",
     "text": [
      "\n",
      "Epoch mlp 1\n",
      "-------------------------------\n",
      "loss: 2.315307  [   64/60000]\n",
      "loss: 2.295732  [ 6464/60000]\n",
      "loss: 2.279489  [12864/60000]\n",
      "loss: 2.264197  [19264/60000]\n",
      "loss: 2.259784  [25664/60000]\n",
      "loss: 2.231506  [32064/60000]\n",
      "loss: 2.228787  [38464/60000]\n",
      "loss: 2.200793  [44864/60000]\n",
      "loss: 2.203628  [51264/60000]\n",
      "loss: 2.173759  [57664/60000]\n",
      "Test Error: \n",
      " Accuracy: 52.8%, Avg loss: 2.163431 \n",
      "\n",
      "Epoch 1 summary mlp: train_loss_mlp=2.2408, train_acc_mlp=0.362, test_loss_mlp=2.1634, test_acc_mlp=0.528\n",
      "\n",
      "Epoch cnn 1\n",
      "-------------------------------\n",
      "loss: 2.298207  [   64/60000]\n",
      "loss: 0.654340  [ 6464/60000]\n",
      "loss: 0.311284  [12864/60000]\n",
      "loss: 0.484112  [19264/60000]\n",
      "loss: 0.487313  [25664/60000]\n",
      "loss: 0.444674  [32064/60000]\n",
      "loss: 0.303994  [38464/60000]\n",
      "loss: 0.533546  [44864/60000]\n",
      "loss: 0.434271  [51264/60000]\n",
      "loss: 0.424210  [57664/60000]\n",
      "Test Error: \n",
      " Accuracy: 86.4%, Avg loss: 0.365603 \n",
      "\n",
      "Epoch 1 summary cnn: train_loss_cnn=0.4577, train_acc_cnn=0.834, test_loss_cnn=0.3656, test_acc_cnn=0.864\n",
      "\n",
      "Epoch mlp 2\n",
      "-------------------------------\n",
      "loss: 2.172359  [   64/60000]\n",
      "loss: 2.160169  [ 6464/60000]\n",
      "loss: 2.108737  [12864/60000]\n",
      "loss: 2.122074  [19264/60000]\n",
      "loss: 2.077313  [25664/60000]\n",
      "loss: 2.011844  [32064/60000]\n",
      "loss: 2.037406  [38464/60000]\n",
      "loss: 1.958744  [44864/60000]\n",
      "loss: 1.977974  [51264/60000]\n",
      "loss: 1.906967  [57664/60000]\n",
      "Test Error: \n",
      " Accuracy: 53.7%, Avg loss: 1.901067 \n",
      "\n",
      "Epoch 2 summary mlp: train_loss_mlp=2.0455, train_acc_mlp=0.546, test_loss_mlp=1.9011, test_acc_mlp=0.537\n",
      "\n",
      "Epoch cnn 2\n",
      "-------------------------------\n",
      "loss: 0.258722  [   64/60000]\n",
      "loss: 0.307867  [ 6464/60000]\n",
      "loss: 0.217764  [12864/60000]\n",
      "loss: 0.350846  [19264/60000]\n",
      "loss: 0.346036  [25664/60000]\n",
      "loss: 0.389100  [32064/60000]\n",
      "loss: 0.230386  [38464/60000]\n",
      "loss: 0.398822  [44864/60000]\n",
      "loss: 0.326371  [51264/60000]\n",
      "loss: 0.320418  [57664/60000]\n",
      "Test Error: \n",
      " Accuracy: 87.3%, Avg loss: 0.347248 \n",
      "\n",
      "Epoch 2 summary cnn: train_loss_cnn=0.2964, train_acc_cnn=0.892, test_loss_cnn=0.3472, test_acc_cnn=0.873\n",
      "\n",
      "Epoch mlp 3\n",
      "-------------------------------\n",
      "loss: 1.925894  [   64/60000]\n",
      "loss: 1.901585  [ 6464/60000]\n",
      "loss: 1.788744  [12864/60000]\n",
      "loss: 1.833535  [19264/60000]\n",
      "loss: 1.724666  [25664/60000]\n",
      "loss: 1.659007  [32064/60000]\n",
      "loss: 1.690393  [38464/60000]\n",
      "loss: 1.585124  [44864/60000]\n",
      "loss: 1.626339  [51264/60000]\n",
      "loss: 1.520817  [57664/60000]\n",
      "Test Error: \n",
      " Accuracy: 59.6%, Avg loss: 1.533181 \n",
      "\n",
      "Epoch 3 summary mlp: train_loss_mlp=1.7128, train_acc_mlp=0.568, test_loss_mlp=1.5332, test_acc_mlp=0.596\n",
      "\n",
      "Epoch cnn 3\n",
      "-------------------------------\n",
      "loss: 0.250294  [   64/60000]\n",
      "loss: 0.230149  [ 6464/60000]\n",
      "loss: 0.175905  [12864/60000]\n",
      "loss: 0.248809  [19264/60000]\n",
      "loss: 0.285573  [25664/60000]\n",
      "loss: 0.359432  [32064/60000]\n",
      "loss: 0.180718  [38464/60000]\n",
      "loss: 0.323410  [44864/60000]\n",
      "loss: 0.227104  [51264/60000]\n",
      "loss: 0.244688  [57664/60000]\n",
      "Test Error: \n",
      " Accuracy: 88.1%, Avg loss: 0.321681 \n",
      "\n",
      "Epoch 3 summary cnn: train_loss_cnn=0.2491, train_acc_cnn=0.908, test_loss_cnn=0.3217, test_acc_cnn=0.881\n",
      "\n",
      "Epoch mlp 4\n",
      "-------------------------------\n",
      "loss: 1.591387  [   64/60000]\n",
      "loss: 1.563219  [ 6464/60000]\n",
      "loss: 1.415359  [12864/60000]\n",
      "loss: 1.488041  [19264/60000]\n",
      "loss: 1.377743  [25664/60000]\n",
      "loss: 1.355028  [32064/60000]\n",
      "loss: 1.374682  [38464/60000]\n",
      "loss: 1.294336  [44864/60000]\n",
      "loss: 1.339990  [51264/60000]\n",
      "loss: 1.244461  [57664/60000]\n",
      "Test Error: \n",
      " Accuracy: 63.1%, Avg loss: 1.263863 \n",
      "\n",
      "Epoch 4 summary mlp: train_loss_mlp=1.3824, train_acc_mlp=0.626, test_loss_mlp=1.2639, test_acc_mlp=0.631\n",
      "\n",
      "Epoch cnn 4\n",
      "-------------------------------\n",
      "loss: 0.201986  [   64/60000]\n",
      "loss: 0.174990  [ 6464/60000]\n",
      "loss: 0.168320  [12864/60000]\n",
      "loss: 0.191953  [19264/60000]\n",
      "loss: 0.253929  [25664/60000]\n",
      "loss: 0.347669  [32064/60000]\n",
      "loss: 0.178431  [38464/60000]\n",
      "loss: 0.298231  [44864/60000]\n",
      "loss: 0.169705  [51264/60000]\n",
      "loss: 0.220468  [57664/60000]\n",
      "Test Error: \n",
      " Accuracy: 88.7%, Avg loss: 0.307341 \n",
      "\n",
      "Epoch 4 summary cnn: train_loss_cnn=0.2170, train_acc_cnn=0.921, test_loss_cnn=0.3073, test_acc_cnn=0.887\n",
      "\n",
      "Epoch mlp 5\n",
      "-------------------------------\n",
      "loss: 1.333948  [   64/60000]\n",
      "loss: 1.321727  [ 6464/60000]\n",
      "loss: 1.157189  [12864/60000]\n",
      "loss: 1.261200  [19264/60000]\n",
      "loss: 1.152198  [25664/60000]\n",
      "loss: 1.158581  [32064/60000]\n",
      "loss: 1.181744  [38464/60000]\n",
      "loss: 1.114811  [44864/60000]\n",
      "loss: 1.160664  [51264/60000]\n",
      "loss: 1.084686  [57664/60000]\n",
      "Test Error: \n",
      " Accuracy: 64.8%, Avg loss: 1.098185 \n",
      "\n",
      "Epoch 5 summary mlp: train_loss_mlp=1.1671, train_acc_mlp=0.650, test_loss_mlp=1.0982, test_acc_mlp=0.648\n",
      "\n",
      "Epoch cnn 5\n",
      "-------------------------------\n",
      "loss: 0.164568  [   64/60000]\n",
      "loss: 0.145108  [ 6464/60000]\n",
      "loss: 0.155619  [12864/60000]\n",
      "loss: 0.158173  [19264/60000]\n",
      "loss: 0.244431  [25664/60000]\n",
      "loss: 0.314297  [32064/60000]\n",
      "loss: 0.155862  [38464/60000]\n",
      "loss: 0.237813  [44864/60000]\n",
      "loss: 0.134624  [51264/60000]\n",
      "loss: 0.184749  [57664/60000]\n",
      "Test Error: \n",
      " Accuracy: 89.0%, Avg loss: 0.302848 \n",
      "\n",
      "Epoch 5 summary cnn: train_loss_cnn=0.1898, train_acc_cnn=0.930, test_loss_cnn=0.3028, test_acc_cnn=0.890\n",
      "Done!\n"
     ]
    }
   ],
   "source": [
    "epochs = 5\n",
    "train_losses_nn, test_losses_nn = [], []\n",
    "train_accs_nn, test_accs_nn = [], []\n",
    "train_losses_cnn, test_losses_cnn = [], []\n",
    "train_accs_cnn, test_accs_cnn = [], []\n",
    "\n",
    "for t in range(epochs):\n",
    "    print(f\"\\nEpoch mlp {t+1}\\n-------------------------------\")\n",
    "    tr_loss_nn, tr_acc_nn = train(train_dataloader, modelnn, loss_fn, optimizer_nn)\n",
    "    te_loss_nn, te_acc_nn = test(test_dataloader, modelnn, loss_fn)\n",
    "    train_losses_nn.append(tr_loss_nn); test_losses_nn.append(te_loss_nn)\n",
    "    train_accs_nn.append(tr_acc_nn); test_accs_nn.append(te_acc_nn)\n",
    "    print(f\"Epoch {t+1} summary mlp: train_loss_mlp={tr_loss_nn:.4f}, train_acc_mlp={tr_acc_nn:.3f}, test_loss_mlp={te_loss_nn:.4f}, test_acc_mlp={te_acc_nn:.3f}\")\n",
    "    print(f\"\\nEpoch cnn {t+1}\\n-------------------------------\")\n",
    "    tr_loss_cnn, tr_acc_cnn = train(train_dataloader, modelcnn, loss_fn, optimizer_cnn)\n",
    "    te_loss_cnn, te_acc_cnn = test(test_dataloader, modelcnn, loss_fn)\n",
    "    train_losses_cnn.append(tr_loss_cnn); test_losses_cnn.append(te_loss_cnn)\n",
    "    train_accs_cnn.append(tr_acc_cnn); test_accs_cnn.append(te_acc_cnn)\n",
    "    print(f\"Epoch {t+1} summary cnn: train_loss_cnn={tr_loss_cnn:.4f}, train_acc_cnn={tr_acc_cnn:.3f}, test_loss_cnn={te_loss_cnn:.4f}, test_acc_cnn={te_acc_cnn:.3f}\")\n",
    "\n",
    "print(\"Done!\")"
   ]
  },
  {
   "cell_type": "code",
   "execution_count": 10,
   "id": "b3031935-9860-480e-b555-550ed83a3f2a",
   "metadata": {},
   "outputs": [
    {
     "data": {
      "image/png": "[encoded data removed]",
      "text/plain": [
       "<Figure size 1000x400 with 2 Axes>"
      ]
     },
     "metadata": {},
     "output_type": "display_data"
    }
   ],
   "source": [
    "plt.figure(figsize=(10,4))\n",
    "plt.subplot(1,2,1)\n",
    "plt.plot(train_losses_nn, label=\"Train Loss MLP\")\n",
    "plt.plot(test_losses_nn, label=\"Test Loss MLP\")\n",
    "plt.plot(train_losses_cnn, label=\"Train Loss CNN\")\n",
    "plt.plot(test_losses_cnn, label=\"Test Loss CNN\")\n",
    "plt.xlabel(\"Epoch\"); plt.ylabel(\"Loss\"); plt.legend(); plt.title(\"Loss mlp v/s cnn\")\n",
    "\n",
    "plt.subplot(1,2,2)\n",
    "plt.plot(train_accs_nn, label=\"Train Acc MLP\")\n",
    "plt.plot(test_accs_nn, label=\"Test Acc MLP\")\n",
    "plt.plot(train_accs_cnn, label=\"Train Acc CNN\")\n",
    "plt.plot(test_accs_cnn, label=\"Test Acc CNN\")\n",
    "plt.xlabel(\"Epoch\"); plt.ylabel(\"Accuracy\"); plt.legend(); plt.title(\"Accuracy mlp v/s cnn\")\n",
    "\n",
    "plt.tight_layout()\n",
    "plt.show()"
   ]
  },
  {
   "cell_type": "code",
   "execution_count": 11,
   "id": "bdc1dca8-356f-49a3-aad9-9af7ee7b93bb",
   "metadata": {},
   "outputs": [
    {
     "name": "stdout",
     "output_type": "stream",
     "text": [
      "Saved PyTorch Model State to modelnn.pth\n",
      "Saved PyTorch Model State to modelcnn.pth\n"
     ]
    }
   ],
   "source": [
    "torch.save(modelnn.state_dict(), \"modelnn.pth\")\n",
    "print(\"Saved PyTorch Model State to modelnn.pth\")\n",
    "torch.save(modelcnn.state_dict(), \"modelcnn.pth\")\n",
    "print(\"Saved PyTorch Model State to modelcnn.pth\")"
   ]
  },
  {
   "cell_type": "code",
   "execution_count": 12,
   "id": "d16786b6-b988-45d6-b0e3-e0b2b1957520",
   "metadata": {},
   "outputs": [
    {
     "data": {
      "text/plain": [
       "<All keys matched successfully>"
      ]
     },
     "execution_count": 12,
     "metadata": {},
     "output_type": "execute_result"
    }
   ],
   "source": [
    "modelnn = NeuralNetwork().to(device)\n",
    "modelnn.load_state_dict(torch.load(\"modelnn.pth\", weights_only=True))"
   ]
  },
  {
   "cell_type": "code",
   "execution_count": 13,
   "id": "5c6456ab-361c-400f-8af9-a4e963eb4b69",
   "metadata": {},
   "outputs": [
    {
     "data": {
      "text/plain": [
       "<All keys matched successfully>"
      ]
     },
     "execution_count": 13,
     "metadata": {},
     "output_type": "execute_result"
    }
   ],
   "source": [
    "modelcnn = CNN().to(device)\n",
    "modelcnn.load_state_dict(torch.load(\"modelcnn.pth\", weights_only=True))"
   ]
  },
  {
   "cell_type": "code",
   "execution_count": 14,
   "id": "e74956f3-bc12-41a1-848d-e5bcb1c832b1",
   "metadata": {},
   "outputs": [
    {
     "name": "stdout",
     "output_type": "stream",
     "text": [
      "Predicted NN: \"Ankle boot\", Actual: \"Ankle boot\"\n",
      "Predicted CNN: \"Ankle boot\", Actual: \"Ankle boot\"\n"
     ]
    }
   ],
   "source": [
    "classes = [\n",
    "    \"T-shirt/top\",\n",
    "    \"Trouser\",\n",
    "    \"Pullover\",\n",
    "    \"Dress\",\n",
    "    \"Coat\",\n",
    "    \"Sandal\",\n",
    "    \"Shirt\",\n",
    "    \"Sneaker\",\n",
    "    \"Bag\",\n",
    "    \"Ankle boot\",\n",
    "]\n",
    "\n",
    "modelnn.eval()\n",
    "modelcnn.eval()\n",
    "x, y = test_data[0][0], test_data[0][1]\n",
    "x_input = x.unsqueeze(0).to(device)\n",
    "actual = classes[y]\n",
    "\n",
    "with torch.no_grad():\n",
    "    x = x.to(device)\n",
    "    pred_nn = modelnn(x)\n",
    "    pred_cnn = modelcnn(x_input)\n",
    "    predicted_nn = classes[pred_nn[0].argmax(0)]\n",
    "    predicted_cnn = classes[pred_cnn[0].argmax(0)]\n",
    "    print(f'Predicted NN: \"{predicted_nn}\", Actual: \"{actual}\"')\n",
    "    print(f'Predicted CNN: \"{predicted_cnn}\", Actual: \"{actual}\"')"
   ]
  },
  {
   "cell_type": "code",
   "execution_count": 15,
   "id": "3e8293fa-e135-4801-bdfb-bd8d34c3e2ff",
   "metadata": {},
   "outputs": [
    {
     "data": {
      "image/png": "[encoded data removed]",
      "text/plain": [
       "<Figure size 640x480 with 1 Axes>"
      ]
     },
     "metadata": {},
     "output_type": "display_data"
    }
   ],
   "source": [
    "plt.imshow(x.squeeze(), cmap=\"gray\")\n",
    "plt.title(f'Actual: {actual}\\nNN: {predicted_nn} | CNN: {predicted_cnn}')\n",
    "plt.axis(\"off\")\n",
    "plt.show()"
   ]
  },
  {
   "cell_type": "code",
   "execution_count": 16,
   "id": "e97e927a-716f-407f-81f4-3a4021f56e6a",
   "metadata": {},
   "outputs": [
    {
     "name": "stderr",
     "output_type": "stream",
     "text": [
      "/tmp/ipykernel_497/1404124820.py:3: DeprecationWarning: You are using the legacy TorchScript-based ONNX export. Starting in PyTorch 2.9, the new torch.export-based ONNX exporter will be the default. To switch now, set dynamo=True in torch.onnx.export. This new exporter supports features like exporting LLMs with DynamicCache. We encourage you to try it and share feedback to help improve the experience. Learn more about the new export logic: https://pytorch.org/docs/stable/onnx_dynamo.html. For exporting control flow: https://pytorch.org/tutorials/beginner/onnx/export_control_flow_model_to_onnx_tutorial.html.\n",
      "  torch.onnx.export(\n"
     ]
    },
    {
     "name": "stdout",
     "output_type": "stream",
     "text": [
      "Modelo exportado a fashion_mnist.onnx\n"
     ]
    },
    {
     "name": "stderr",
     "output_type": "stream",
     "text": [
      "/tmp/ipykernel_497/1404124820.py:11: DeprecationWarning: You are using the legacy TorchScript-based ONNX export. Starting in PyTorch 2.9, the new torch.export-based ONNX exporter will be the default. To switch now, set dynamo=True in torch.onnx.export. This new exporter supports features like exporting LLMs with DynamicCache. We encourage you to try it and share feedback to help improve the experience. Learn more about the new export logic: https://pytorch.org/docs/stable/onnx_dynamo.html. For exporting control flow: https://pytorch.org/tutorials/beginner/onnx/export_control_flow_model_to_onnx_tutorial.html.\n",
      "  torch.onnx.export(\n"
     ]
    },
    {
     "name": "stdout",
     "output_type": "stream",
     "text": [
      "Modelo CNN exportado a fashion_mnist_cnn.onnx\n"
     ]
    }
   ],
   "source": [
    "dummy_input = torch.randn(1, 1, 28, 28).to(device)\n",
    "\n",
    "torch.onnx.export(\n",
    "    modelnn, dummy_input, \"fashion_mnist.onnx\",\n",
    "    input_names=[\"input\"], output_names=[\"output\"],\n",
    "    dynamic_axes={\"input\": {0: \"batch_size\"}, \"output\": {0: \"batch_size\"}},\n",
    "    opset_version=11\n",
    ")\n",
    "print(\"Modelo exportado a fashion_mnist.onnx\")\n",
    "\n",
    "torch.onnx.export(\n",
    "    modelcnn, dummy_input, \"fashion_mnist_cnn.onnx\",\n",
    "    input_names=[\"input\"], output_names=[\"output\"],\n",
    "    dynamic_axes={\"input\": {0: \"batch_size\"}, \"output\": {0: \"batch_size\"}},\n",
    "    opset_version=11\n",
    ")\n",
    "print(\"Modelo CNN exportado a fashion_mnist_cnn.onnx\")"
   ]
  },
  {
   "cell_type": "code",
   "execution_count": null,
   "id": "4ff85910-a4f1-4b61-9447-dbaaff33e814",
   "metadata": {},
   "outputs": [],
   "source": []
  }
 ],
 "metadata": {
  "kernelspec": {
   "display_name": "Python 3 (ipykernel)",
   "language": "python",
   "name": "python3"
  },
  "language_info": {
   "codemirror_mode": {
    "name": "ipython",
    "version": 3
   },
   "file_extension": ".py",
   "mimetype": "text/x-python",
   "name": "python",
   "nbconvert_exporter": "python",
   "pygments_lexer": "ipython3",
   "version": "3.10.12"
  }
 },
 "nbformat": 4,
 "nbformat_minor": 5
}
