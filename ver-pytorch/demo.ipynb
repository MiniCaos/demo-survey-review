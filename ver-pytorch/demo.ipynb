{
 "cells": [
  {
   "cell_type": "code",
   "execution_count": 1,
   "id": "a19916a7-c042-4b55-8944-26d62e0589ac",
   "metadata": {},
   "outputs": [],
   "source": [
    "import torch\n",
    "from torch import nn\n",
    "from torch.utils.data import DataLoader\n",
    "from torchvision import datasets\n",
    "from torchvision.transforms import ToTensor\n",
    "import matplotlib.pyplot as plt"
   ]
  },
  {
   "cell_type": "code",
   "execution_count": 2,
   "id": "3c8326bd-4b0d-46a2-ae4c-7e8917ddb430",
   "metadata": {},
   "outputs": [],
   "source": [
    "# Download training data from open datasets.\n",
    "training_data = datasets.FashionMNIST(\n",
    "    root=\"data\",\n",
    "    train=True,\n",
    "    download=True,\n",
    "    transform=ToTensor(),\n",
    ")\n",
    "\n",
    "# Download test data from open datasets.\n",
    "test_data = datasets.FashionMNIST(\n",
    "    root=\"data\",\n",
    "    train=False,\n",
    "    download=True,\n",
    "    transform=ToTensor(),\n",
    ")"
   ]
  },
  {
   "cell_type": "code",
   "execution_count": 3,
   "id": "07b1941a-1386-4d63-9a68-89e5f628ab1d",
   "metadata": {},
   "outputs": [
    {
     "name": "stdout",
     "output_type": "stream",
     "text": [
      "Shape of X [N, C, H, W]: torch.Size([64, 1, 28, 28])\n",
      "Shape of y: torch.Size([64]) torch.int64\n"
     ]
    }
   ],
   "source": [
    "batch_size = 64\n",
    "\n",
    "# Create data loaders.\n",
    "train_dataloader = DataLoader(training_data, batch_size=batch_size)\n",
    "test_dataloader = DataLoader(test_data, batch_size=batch_size)\n",
    "\n",
    "for X, y in test_dataloader:\n",
    "    print(f\"Shape of X [N, C, H, W]: {X.shape}\")\n",
    "    print(f\"Shape of y: {y.shape} {y.dtype}\")\n",
    "    break"
   ]
  },
  {
   "cell_type": "code",
   "execution_count": 4,
   "id": "338b4cf7-0824-4e92-b143-0f53e850dc42",
   "metadata": {},
   "outputs": [
    {
     "name": "stdout",
     "output_type": "stream",
     "text": [
      "Using cpu device\n",
      "NeuralNetwork(\n",
      "  (flatten): Flatten(start_dim=1, end_dim=-1)\n",
      "  (linear_relu_stack): Sequential(\n",
      "    (0): Linear(in_features=784, out_features=512, bias=True)\n",
      "    (1): ReLU()\n",
      "    (2): Linear(in_features=512, out_features=512, bias=True)\n",
      "    (3): ReLU()\n",
      "    (4): Linear(in_features=512, out_features=10, bias=True)\n",
      "  )\n",
      ")\n"
     ]
    }
   ],
   "source": [
    "device = torch.accelerator.current_accelerator().type if torch.accelerator.is_available() else \"cpu\"\n",
    "print(f\"Using {device} device\")\n",
    "# Define model\n",
    "class NeuralNetwork(nn.Module):\n",
    "    def __init__(self):\n",
    "        super().__init__()\n",
    "        self.flatten = nn.Flatten()\n",
    "        self.linear_relu_stack = nn.Sequential(\n",
    "            nn.Linear(28*28, 512),\n",
    "            nn.ReLU(),\n",
    "            nn.Linear(512, 512),\n",
    "            nn.ReLU(),\n",
    "            nn.Linear(512, 10)\n",
    "        )\n",
    "\n",
    "    def forward(self, x):\n",
    "        x = self.flatten(x)\n",
    "        logits = self.linear_relu_stack(x)\n",
    "        return logits\n",
    "\n",
    "modelnn = NeuralNetwork().to(device)\n",
    "print(modelnn)"
   ]
  },
  {
   "cell_type": "code",
   "execution_count": 5,
   "id": "250738e7-37c7-41f2-864a-f24e20ead2a0",
   "metadata": {},
   "outputs": [
    {
     "name": "stdout",
     "output_type": "stream",
     "text": [
      "Using cpu device\n",
      "CNN(\n",
      "  (conv_stack): Sequential(\n",
      "    (0): Conv2d(1, 32, kernel_size=(3, 3), stride=(1, 1), padding=(1, 1))\n",
      "    (1): ReLU()\n",
      "    (2): MaxPool2d(kernel_size=2, stride=2, padding=0, dilation=1, ceil_mode=False)\n",
      "    (3): Conv2d(32, 64, kernel_size=(3, 3), stride=(1, 1), padding=(1, 1))\n",
      "    (4): ReLU()\n",
      "    (5): MaxPool2d(kernel_size=2, stride=2, padding=0, dilation=1, ceil_mode=False)\n",
      "  )\n",
      "  (fc_stack): Sequential(\n",
      "    (0): Flatten(start_dim=1, end_dim=-1)\n",
      "    (1): Linear(in_features=3136, out_features=128, bias=True)\n",
      "    (2): ReLU()\n",
      "    (3): Linear(in_features=128, out_features=10, bias=True)\n",
      "  )\n",
      ")\n"
     ]
    }
   ],
   "source": [
    "device = torch.accelerator.current_accelerator().type if torch.accelerator.is_available() else \"cpu\"\n",
    "print(f\"Using {device} device\")\n",
    "class CNN(nn.Module):\n",
    "    def __init__(self):\n",
    "        super().__init__()\n",
    "        self.conv_stack = nn.Sequential(\n",
    "            nn.Conv2d(1, 32, kernel_size=3, padding=1), nn.ReLU(),\n",
    "            nn.MaxPool2d(2),  # 28x28 -> 14x14\n",
    "            nn.Conv2d(32, 64, kernel_size=3, padding=1), nn.ReLU(),\n",
    "            nn.MaxPool2d(2)   # 14x14 -> 7x7\n",
    "        )\n",
    "        self.fc_stack = nn.Sequential(\n",
    "            nn.Flatten(),\n",
    "            nn.Linear(64*7*7, 128), nn.ReLU(),\n",
    "            nn.Linear(128, 10)\n",
    "        )\n",
    "    def forward(self, x):\n",
    "        x = self.conv_stack(x)\n",
    "        return self.fc_stack(x)\n",
    "\n",
    "modelcnn = CNN().to(device)\n",
    "print(modelcnn)"
   ]
  },
  {
   "cell_type": "code",
   "execution_count": 8,
   "id": "25fca880-d8f3-47ad-b833-fec4958dbf72",
   "metadata": {},
   "outputs": [],
   "source": [
    "loss_fn = nn.CrossEntropyLoss()\n",
    "optimizer_nn = torch.optim.SGD(modelnn.parameters(), lr=1e-3)\n",
    "optimizer_cnn = torch.optim.Adam(modelcnn.parameters(), lr=1e-3)"
   ]
  },
  {
   "cell_type": "code",
   "execution_count": 9,
   "id": "4d32a9a2-478c-4cbc-a570-9b218a52f6b2",
   "metadata": {},
   "outputs": [],
   "source": [
    "def train(dataloader, model, loss_fn, optimizer):\n",
    "    size = len(dataloader.dataset)\n",
    "    model.train()\n",
    "    running_loss, correct = 0, 0\n",
    "    for batch, (X, y) in enumerate(dataloader):\n",
    "        X, y = X.to(device), y.to(device)\n",
    "\n",
    "        # Compute prediction error\n",
    "        pred = model(X)\n",
    "        loss = loss_fn(pred, y)\n",
    "\n",
    "        # Backpropagation\n",
    "        loss.backward()\n",
    "        optimizer.step()\n",
    "        optimizer.zero_grad()\n",
    "\n",
    "        running_loss += loss.item()\n",
    "        correct += (pred.argmax(1) == y).type(torch.float).sum().item()\n",
    "\n",
    "        if batch % 100 == 0:\n",
    "            loss, current = loss.item(), (batch + 1) * len(X)\n",
    "            print(f\"loss: {loss:>7f}  [{current:>5d}/{size:>5d}]\")\n",
    "\n",
    "    avg_loss = running_loss / len(dataloader)\n",
    "    accuracy = correct / size\n",
    "    return avg_loss, accuracy"
   ]
  },
  {
   "cell_type": "code",
   "execution_count": 10,
   "id": "13f9c3dd-016a-4f32-866d-f71392db8dfa",
   "metadata": {},
   "outputs": [],
   "source": [
    "def test(dataloader, model, loss_fn):\n",
    "    size = len(dataloader.dataset)\n",
    "    num_batches = len(dataloader)\n",
    "    model.eval()\n",
    "    test_loss, correct = 0, 0\n",
    "    with torch.no_grad():\n",
    "        for X, y in dataloader:\n",
    "            X, y = X.to(device), y.to(device)\n",
    "            pred = model(X)\n",
    "            test_loss += loss_fn(pred, y).item()\n",
    "            correct += (pred.argmax(1) == y).type(torch.float).sum().item()\n",
    "    test_loss /= num_batches\n",
    "    accuracy = correct / size\n",
    "    print(f\"Test Error: \\n Accuracy: {(100*accuracy):>0.1f}%, Avg loss: {test_loss:>8f} \\n\")\n",
    "    return test_loss, accuracy"
   ]
  },
  {
   "cell_type": "code",
   "execution_count": 11,
   "id": "0b8df260-97b1-443d-82ce-55e2d08f2418",
   "metadata": {},
   "outputs": [
    {
     "name": "stdout",
     "output_type": "stream",
     "text": [
      "\n",
      "Epoch nn 1\n",
      "-------------------------------\n",
      "loss: 2.318990  [   64/60000]\n",
      "loss: 2.302607  [ 6464/60000]\n",
      "loss: 2.283725  [12864/60000]\n",
      "loss: 2.273811  [19264/60000]\n",
      "loss: 2.250204  [25664/60000]\n",
      "loss: 2.239510  [32064/60000]\n",
      "loss: 2.237063  [38464/60000]\n",
      "loss: 2.203424  [44864/60000]\n",
      "loss: 2.213750  [51264/60000]\n",
      "loss: 2.178271  [57664/60000]\n",
      "Test Error: \n",
      " Accuracy: 44.2%, Avg loss: 2.173897 \n",
      "\n",
      "Epoch 1 summary nn: train_loss_nn=2.2446, train_acc_nn=0.331, test_loss_nn=2.1739, test_acc_nn=0.442\n",
      "\n",
      "Epoch cnn 1\n",
      "-------------------------------\n",
      "loss: 2.295679  [   64/60000]\n",
      "loss: 0.706992  [ 6464/60000]\n",
      "loss: 0.341575  [12864/60000]\n",
      "loss: 0.518156  [19264/60000]\n",
      "loss: 0.499137  [25664/60000]\n",
      "loss: 0.491703  [32064/60000]\n",
      "loss: 0.330771  [38464/60000]\n",
      "loss: 0.516426  [44864/60000]\n",
      "loss: 0.435031  [51264/60000]\n",
      "loss: 0.435819  [57664/60000]\n",
      "Test Error: \n",
      " Accuracy: 86.5%, Avg loss: 0.367724 \n",
      "\n",
      "Epoch 1 summary cnn: train_loss_cnn=0.4728, train_acc_cnn=0.831, test_loss_cnn=0.3677, test_acc_cnn=0.865\n",
      "\n",
      "Epoch nn 2\n",
      "-------------------------------\n",
      "loss: 2.193040  [   64/60000]\n",
      "loss: 2.175958  [ 6464/60000]\n",
      "loss: 2.120708  [12864/60000]\n",
      "loss: 2.142252  [19264/60000]\n",
      "loss: 2.073948  [25664/60000]\n",
      "loss: 2.042428  [32064/60000]\n",
      "loss: 2.058902  [38464/60000]\n",
      "loss: 1.979637  [44864/60000]\n",
      "loss: 2.003356  [51264/60000]\n",
      "loss: 1.930128  [57664/60000]\n",
      "Test Error: \n",
      " Accuracy: 50.3%, Avg loss: 1.924462 \n",
      "\n",
      "Epoch 2 summary nn: train_loss_nn=2.0621, train_acc_nn=0.481, test_loss_nn=1.9245, test_acc_nn=0.503\n",
      "\n",
      "Epoch cnn 2\n",
      "-------------------------------\n",
      "loss: 0.245008  [   64/60000]\n",
      "loss: 0.347250  [ 6464/60000]\n",
      "loss: 0.231839  [12864/60000]\n",
      "loss: 0.366788  [19264/60000]\n",
      "loss: 0.362753  [25664/60000]\n",
      "loss: 0.397471  [32064/60000]\n",
      "loss: 0.279771  [38464/60000]\n",
      "loss: 0.403573  [44864/60000]\n",
      "loss: 0.330445  [51264/60000]\n",
      "loss: 0.328118  [57664/60000]\n",
      "Test Error: \n",
      " Accuracy: 87.3%, Avg loss: 0.341824 \n",
      "\n",
      "Epoch 2 summary cnn: train_loss_cnn=0.3019, train_acc_cnn=0.890, test_loss_cnn=0.3418, test_acc_cnn=0.873\n",
      "\n",
      "Epoch nn 3\n",
      "-------------------------------\n",
      "loss: 1.963687  [   64/60000]\n",
      "loss: 1.924218  [ 6464/60000]\n",
      "loss: 1.809589  [12864/60000]\n",
      "loss: 1.864121  [19264/60000]\n",
      "loss: 1.733457  [25664/60000]\n",
      "loss: 1.703967  [32064/60000]\n",
      "loss: 1.719325  [38464/60000]\n",
      "loss: 1.614683  [44864/60000]\n",
      "loss: 1.645378  [51264/60000]\n",
      "loss: 1.537926  [57664/60000]\n",
      "Test Error: \n",
      " Accuracy: 59.6%, Avg loss: 1.557633 \n",
      "\n",
      "Epoch 3 summary nn: train_loss_nn=1.7380, train_acc_nn=0.568, test_loss_nn=1.5576, test_acc_nn=0.596\n",
      "\n",
      "Epoch cnn 3\n",
      "-------------------------------\n",
      "loss: 0.245594  [   64/60000]\n",
      "loss: 0.241367  [ 6464/60000]\n",
      "loss: 0.184239  [12864/60000]\n",
      "loss: 0.277212  [19264/60000]\n",
      "loss: 0.307230  [25664/60000]\n",
      "loss: 0.378383  [32064/60000]\n",
      "loss: 0.261831  [38464/60000]\n",
      "loss: 0.335900  [44864/60000]\n",
      "loss: 0.277825  [51264/60000]\n",
      "loss: 0.252734  [57664/60000]\n",
      "Test Error: \n",
      " Accuracy: 87.8%, Avg loss: 0.325569 \n",
      "\n",
      "Epoch 3 summary cnn: train_loss_cnn=0.2539, train_acc_cnn=0.907, test_loss_cnn=0.3256, test_acc_cnn=0.878\n",
      "\n",
      "Epoch nn 4\n",
      "-------------------------------\n",
      "loss: 1.624247  [   64/60000]\n",
      "loss: 1.585098  [ 6464/60000]\n",
      "loss: 1.432303  [12864/60000]\n",
      "loss: 1.516329  [19264/60000]\n",
      "loss: 1.381411  [25664/60000]\n",
      "loss: 1.386133  [32064/60000]\n",
      "loss: 1.393283  [38464/60000]\n",
      "loss: 1.314349  [44864/60000]\n",
      "loss: 1.349276  [51264/60000]\n",
      "loss: 1.242625  [57664/60000]\n",
      "Test Error: \n",
      " Accuracy: 62.4%, Avg loss: 1.277914 \n",
      "\n",
      "Epoch 4 summary nn: train_loss_nn=1.4014, train_acc_nn=0.624, test_loss_nn=1.2779, test_acc_nn=0.624\n",
      "\n",
      "Epoch cnn 4\n",
      "-------------------------------\n",
      "loss: 0.217288  [   64/60000]\n",
      "loss: 0.186644  [ 6464/60000]\n",
      "loss: 0.160347  [12864/60000]\n",
      "loss: 0.233759  [19264/60000]\n",
      "loss: 0.278329  [25664/60000]\n",
      "loss: 0.353831  [32064/60000]\n",
      "loss: 0.217629  [38464/60000]\n",
      "loss: 0.308006  [44864/60000]\n",
      "loss: 0.239081  [51264/60000]\n",
      "loss: 0.191344  [57664/60000]\n",
      "Test Error: \n",
      " Accuracy: 88.7%, Avg loss: 0.304091 \n",
      "\n",
      "Epoch 4 summary cnn: train_loss_cnn=0.2221, train_acc_cnn=0.919, test_loss_cnn=0.3041, test_acc_cnn=0.887\n",
      "\n",
      "Epoch nn 5\n",
      "-------------------------------\n",
      "loss: 1.354989  [   64/60000]\n",
      "loss: 1.336551  [ 6464/60000]\n",
      "loss: 1.165986  [12864/60000]\n",
      "loss: 1.281839  [19264/60000]\n",
      "loss: 1.142603  [25664/60000]\n",
      "loss: 1.175927  [32064/60000]\n",
      "loss: 1.190743  [38464/60000]\n",
      "loss: 1.126956  [44864/60000]\n",
      "loss: 1.167706  [51264/60000]\n",
      "loss: 1.072410  [57664/60000]\n",
      "Test Error: \n",
      " Accuracy: 64.2%, Avg loss: 1.104478 \n",
      "\n",
      "Epoch 5 summary nn: train_loss_nn=1.1768, train_acc_nn=0.645, test_loss_nn=1.1045, test_acc_nn=0.642\n",
      "\n",
      "Epoch cnn 5\n",
      "-------------------------------\n",
      "loss: 0.195225  [   64/60000]\n",
      "loss: 0.160908  [ 6464/60000]\n",
      "loss: 0.144946  [12864/60000]\n",
      "loss: 0.201260  [19264/60000]\n",
      "loss: 0.265881  [25664/60000]\n",
      "loss: 0.336365  [32064/60000]\n",
      "loss: 0.182311  [38464/60000]\n",
      "loss: 0.293317  [44864/60000]\n",
      "loss: 0.209180  [51264/60000]\n",
      "loss: 0.160906  [57664/60000]\n",
      "Test Error: \n",
      " Accuracy: 88.9%, Avg loss: 0.297688 \n",
      "\n",
      "Epoch 5 summary cnn: train_loss_cnn=0.1963, train_acc_cnn=0.929, test_loss_cnn=0.2977, test_acc_cnn=0.889\n",
      "Done!\n"
     ]
    }
   ],
   "source": [
    "epochs = 5\n",
    "train_losses_nn, test_losses_nn = [], []\n",
    "train_accs_nn, test_accs_nn = [], []\n",
    "train_losses_cnn, test_losses_cnn = [], []\n",
    "train_accs_cnn, test_accs_cnn = [], []\n",
    "\n",
    "for t in range(epochs):\n",
    "    print(f\"\\nEpoch nn {t+1}\\n-------------------------------\")\n",
    "    tr_loss_nn, tr_acc_nn = train(train_dataloader, modelnn, loss_fn, optimizer_nn)\n",
    "    te_loss_nn, te_acc_nn = test(test_dataloader, modelnn, loss_fn)\n",
    "    train_losses_nn.append(tr_loss_nn); test_losses_nn.append(te_loss_nn)\n",
    "    train_accs_nn.append(tr_acc_nn); test_accs_nn.append(te_acc_nn)\n",
    "    print(f\"Epoch {t+1} summary nn: train_loss_nn={tr_loss_nn:.4f}, train_acc_nn={tr_acc_nn:.3f}, test_loss_nn={te_loss_nn:.4f}, test_acc_nn={te_acc_nn:.3f}\")\n",
    "    print(f\"\\nEpoch cnn {t+1}\\n-------------------------------\")\n",
    "    tr_loss_cnn, tr_acc_cnn = train(train_dataloader, modelcnn, loss_fn, optimizer_cnn)\n",
    "    te_loss_cnn, te_acc_cnn = test(test_dataloader, modelcnn, loss_fn)\n",
    "    train_losses_cnn.append(tr_loss_cnn); test_losses_cnn.append(te_loss_cnn)\n",
    "    train_accs_cnn.append(tr_acc_cnn); test_accs_cnn.append(te_acc_cnn)\n",
    "    print(f\"Epoch {t+1} summary cnn: train_loss_cnn={tr_loss_cnn:.4f}, train_acc_cnn={tr_acc_cnn:.3f}, test_loss_cnn={te_loss_cnn:.4f}, test_acc_cnn={te_acc_cnn:.3f}\")\n",
    "\n",
    "print(\"Done!\")"
   ]
  },
  {
   "cell_type": "code",
   "execution_count": 12,
   "id": "b3031935-9860-480e-b555-550ed83a3f2a",
   "metadata": {},
   "outputs": [
    {
     "data": {
      "image/png": "[encoded data removed]",
      "text/plain": [
       "<Figure size 1000x400 with 2 Axes>"
      ]
     },
     "metadata": {},
     "output_type": "display_data"
    }
   ],
   "source": [
    "plt.figure(figsize=(10,4))\n",
    "plt.subplot(1,2,1)\n",
    "plt.plot(train_losses_nn, label=\"Train Loss NN\")\n",
    "plt.plot(test_losses_nn, label=\"Test Loss NN\")\n",
    "plt.plot(train_losses_cnn, label=\"Train Loss CNN\")\n",
    "plt.plot(test_losses_cnn, label=\"Test Loss CNN\")\n",
    "plt.xlabel(\"Epoch\"); plt.ylabel(\"Loss\"); plt.legend(); plt.title(\"Loss nn v/s cnn\")\n",
    "\n",
    "plt.subplot(1,2,2)\n",
    "plt.plot(train_accs_nn, label=\"Train Acc NN\")\n",
    "plt.plot(test_accs_nn, label=\"Test Acc NN\")\n",
    "plt.plot(train_accs_cnn, label=\"Train Acc CNN\")\n",
    "plt.plot(test_accs_cnn, label=\"Test Acc CNN\")\n",
    "plt.xlabel(\"Epoch\"); plt.ylabel(\"Accuracy\"); plt.legend(); plt.title(\"Accuracy nn v/s cnn\")\n",
    "\n",
    "plt.tight_layout()\n",
    "plt.show()"
   ]
  },
  {
   "cell_type": "code",
   "execution_count": 13,
   "id": "bdc1dca8-356f-49a3-aad9-9af7ee7b93bb",
   "metadata": {},
   "outputs": [
    {
     "name": "stdout",
     "output_type": "stream",
     "text": [
      "Saved PyTorch Model State to modelnn.pth\n",
      "Saved PyTorch Model State to modelcnn.pth\n"
     ]
    }
   ],
   "source": [
    "torch.save(modelnn.state_dict(), \"modelnn.pth\")\n",
    "print(\"Saved PyTorch Model State to modelnn.pth\")\n",
    "torch.save(modelcnn.state_dict(), \"modelcnn.pth\")\n",
    "print(\"Saved PyTorch Model State to modelcnn.pth\")"
   ]
  },
  {
   "cell_type": "code",
   "execution_count": 14,
   "id": "d16786b6-b988-45d6-b0e3-e0b2b1957520",
   "metadata": {},
   "outputs": [
    {
     "data": {
      "text/plain": [
       "<All keys matched successfully>"
      ]
     },
     "execution_count": 14,
     "metadata": {},
     "output_type": "execute_result"
    }
   ],
   "source": [
    "modelnn = NeuralNetwork().to(device)\n",
    "modelnn.load_state_dict(torch.load(\"modelnn.pth\", weights_only=True))"
   ]
  },
  {
   "cell_type": "code",
   "execution_count": 15,
   "id": "5c6456ab-361c-400f-8af9-a4e963eb4b69",
   "metadata": {},
   "outputs": [
    {
     "data": {
      "text/plain": [
       "<All keys matched successfully>"
      ]
     },
     "execution_count": 15,
     "metadata": {},
     "output_type": "execute_result"
    }
   ],
   "source": [
    "modelcnn = CNN().to(device)\n",
    "modelcnn.load_state_dict(torch.load(\"modelcnn.pth\", weights_only=True))"
   ]
  },
  {
   "cell_type": "code",
   "execution_count": 17,
   "id": "e74956f3-bc12-41a1-848d-e5bcb1c832b1",
   "metadata": {},
   "outputs": [
    {
     "name": "stdout",
     "output_type": "stream",
     "text": [
      "Predicted NN: \"Ankle boot\", Actual: \"Ankle boot\"\n",
      "Predicted CNN: \"Ankle boot\", Actual: \"Ankle boot\"\n"
     ]
    }
   ],
   "source": [
    "classes = [\n",
    "    \"T-shirt/top\",\n",
    "    \"Trouser\",\n",
    "    \"Pullover\",\n",
    "    \"Dress\",\n",
    "    \"Coat\",\n",
    "    \"Sandal\",\n",
    "    \"Shirt\",\n",
    "    \"Sneaker\",\n",
    "    \"Bag\",\n",
    "    \"Ankle boot\",\n",
    "]\n",
    "\n",
    "modelnn.eval()\n",
    "modelcnn.eval()\n",
    "x, y = test_data[0][0], test_data[0][1]\n",
    "x_input = x.unsqueeze(0).to(device)\n",
    "actual = classes[y]\n",
    "\n",
    "with torch.no_grad():\n",
    "    x = x.to(device)\n",
    "    pred_nn = modelnn(x)\n",
    "    pred_cnn = modelcnn(x_input)\n",
    "    predicted_nn = classes[pred_nn[0].argmax(0)]\n",
    "    predicted_cnn = classes[pred_cnn[0].argmax(0)]\n",
    "    print(f'Predicted NN: \"{predicted_nn}\", Actual: \"{actual}\"')\n",
    "    print(f'Predicted CNN: \"{predicted_cnn}\", Actual: \"{actual}\"')"
   ]
  },
  {
   "cell_type": "code",
   "execution_count": 20,
   "id": "3e8293fa-e135-4801-bdfb-bd8d34c3e2ff",
   "metadata": {},
   "outputs": [
    {
     "data": {
      "image/png": "[encoded data removed]",
      "text/plain": [
       "<Figure size 640x480 with 1 Axes>"
      ]
     },
     "metadata": {},
     "output_type": "display_data"
    }
   ],
   "source": [
    "plt.imshow(x.squeeze(), cmap=\"gray\")\n",
    "plt.title(f'Actual: {actual}\\nNN: {predicted_nn} | CNN: {predicted_cnn}')\n",
    "plt.axis(\"off\")\n",
    "plt.show()"
   ]
  },
  {
   "cell_type": "code",
   "execution_count": 21,
   "id": "e97e927a-716f-407f-81f4-3a4021f56e6a",
   "metadata": {},
   "outputs": [
    {
     "name": "stderr",
     "output_type": "stream",
     "text": [
      "/tmp/ipykernel_5100/1404124820.py:3: DeprecationWarning: You are using the legacy TorchScript-based ONNX export. Starting in PyTorch 2.9, the new torch.export-based ONNX exporter will be the default. To switch now, set dynamo=True in torch.onnx.export. This new exporter supports features like exporting LLMs with DynamicCache. We encourage you to try it and share feedback to help improve the experience. Learn more about the new export logic: https://pytorch.org/docs/stable/onnx_dynamo.html. For exporting control flow: https://pytorch.org/tutorials/beginner/onnx/export_control_flow_model_to_onnx_tutorial.html.\n",
      "  torch.onnx.export(\n"
     ]
    },
    {
     "name": "stdout",
     "output_type": "stream",
     "text": [
      "Modelo exportado a fashion_mnist.onnx\n"
     ]
    },
    {
     "name": "stderr",
     "output_type": "stream",
     "text": [
      "/tmp/ipykernel_5100/1404124820.py:11: DeprecationWarning: You are using the legacy TorchScript-based ONNX export. Starting in PyTorch 2.9, the new torch.export-based ONNX exporter will be the default. To switch now, set dynamo=True in torch.onnx.export. This new exporter supports features like exporting LLMs with DynamicCache. We encourage you to try it and share feedback to help improve the experience. Learn more about the new export logic: https://pytorch.org/docs/stable/onnx_dynamo.html. For exporting control flow: https://pytorch.org/tutorials/beginner/onnx/export_control_flow_model_to_onnx_tutorial.html.\n",
      "  torch.onnx.export(\n"
     ]
    },
    {
     "name": "stdout",
     "output_type": "stream",
     "text": [
      "Modelo CNN exportado a fashion_mnist_cnn.onnx\n"
     ]
    }
   ],
   "source": [
    "dummy_input = torch.randn(1, 1, 28, 28).to(device)\n",
    "\n",
    "torch.onnx.export(\n",
    "    modelnn, dummy_input, \"fashion_mnist.onnx\",\n",
    "    input_names=[\"input\"], output_names=[\"output\"],\n",
    "    dynamic_axes={\"input\": {0: \"batch_size\"}, \"output\": {0: \"batch_size\"}},\n",
    "    opset_version=11\n",
    ")\n",
    "print(\"Modelo exportado a fashion_mnist.onnx\")\n",
    "\n",
    "torch.onnx.export(\n",
    "    modelcnn, dummy_input, \"fashion_mnist_cnn.onnx\",\n",
    "    input_names=[\"input\"], output_names=[\"output\"],\n",
    "    dynamic_axes={\"input\": {0: \"batch_size\"}, \"output\": {0: \"batch_size\"}},\n",
    "    opset_version=11\n",
    ")\n",
    "print(\"Modelo CNN exportado a fashion_mnist_cnn.onnx\")"
   ]
  }
 ],
 "metadata": {
  "kernelspec": {
   "display_name": "Python 3 (ipykernel)",
   "language": "python",
   "name": "python3"
  },
  "language_info": {
   "codemirror_mode": {
    "name": "ipython",
    "version": 3
   },
   "file_extension": ".py",
   "mimetype": "text/x-python",
   "name": "python",
   "nbconvert_exporter": "python",
   "pygments_lexer": "ipython3",
   "version": "3.10.12"
  }
 },
 "nbformat": 4,
 "nbformat_minor": 5
}
